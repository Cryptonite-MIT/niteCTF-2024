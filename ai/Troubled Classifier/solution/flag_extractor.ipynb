{
 "cells": [
  {
   "cell_type": "code",
   "execution_count": 1,
   "metadata": {},
   "outputs": [
    {
     "name": "stdout",
     "output_type": "stream",
     "text": [
      "Extracted Flag: NITE{4dv3rs4ri4l\u0000\u0000\u0001ü\u0000\u0000À\u0000\u0007\u0000\u0000àà\u0000\u000e\u000f\u0000\u0000\u0000ð\u0000\u0000\u0007\u0000\u0000\u0000p\u0000\u0000\u0007\u0000\u0000\u0000óÀ\u0000\u001fü\u0000ÿ\u001fÿ\u0000\u0003ýÀ\u00008<\u0000\u0003\u0007\u0000?ð\u0000\u0001ü\u0000\u0000\u0000\u0000\u0000\u0000\u0000\u0000\u0000\u0000\u0000\u0000\u0000\u0000\u0000\u0000\u0000\u0000\u0000\n"
     ]
    }
   ],
   "source": [
    "import numpy as np\n",
    "from PIL import Image\n",
    "\n",
    "def extract_flag_from_image(file_path, epsilon):\n",
    "    img = Image.open(file_path).convert('L')  \n",
    "    adversarial_image = np.array(img) / 255.0\n",
    "    adversarial_image = np.clip(adversarial_image, 0, 1)\n",
    "    extracted_bits = np.round(adversarial_image / epsilon).astype(int).flatten()\n",
    "    extracted_bits = np.clip(extracted_bits, 0, 1)\n",
    "    flag_chars = []\n",
    "    for i in range(0, len(extracted_bits), 8):\n",
    "        byte_bits = extracted_bits[i:i+8]\n",
    "        if len(byte_bits) == 8:\n",
    "            byte_value = int(''.join(map(str, byte_bits)), 2)\n",
    "            flag_chars.append(chr(byte_value))\n",
    "    flag = ''.join(flag_chars)\n",
    "    \n",
    "    return flag\n",
    "file_path = 'modified_dataset/train/2/train_image_16.png'\n",
    "epsilon = 0.1\n",
    "extracted_flag = extract_flag_from_image(file_path, epsilon)\n",
    "print(f\"Extracted Flag: {extracted_flag}\")\n"
   ]
  },
  {
   "cell_type": "code",
   "execution_count": 2,
   "metadata": {},
   "outputs": [
    {
     "name": "stdout",
     "output_type": "stream",
     "text": [
      "Extracted Flag: _53cr3ts_Lurking_\u0000\u0000\u0000\u0000\u0000\u0000\u0000\u0000\u0000\u001f\u0000\u000fü\u0000\u000fÿÀ\u0001ÿü\u0000\u001fÇÀ\u0003ðx\u0000>\u001f\u0003Áð\u0000\u0000>\u0000\u0000\u0003À\u0000\u0000|\u0000\u0000\u0007\u0000\u0000ø\u0000\u0000>\u0000\u0000\u0003À\u0000\u0000|\u0000\u0000\u0007\u0000\u0000ø\u0000\u0000\u000f\u0000\u0000\u0000à\u0000\u0000\u0000\u0000\u0000\n"
     ]
    }
   ],
   "source": [
    "import numpy as np\n",
    "from PIL import Image\n",
    "\n",
    "def extract_flag_from_image(file_path, epsilon):\n",
    "    img = Image.open(file_path).convert('L')\n",
    "    adversarial_image = np.array(img) / 255.0 \n",
    "    adversarial_image = np.clip(adversarial_image, 0, 1)\n",
    "    extracted_bits = np.round(adversarial_image / epsilon).astype(int).flatten()\n",
    "    extracted_bits = np.clip(extracted_bits, 0, 1)\n",
    "    flag_chars = []\n",
    "    for i in range(0, len(extracted_bits), 8):\n",
    "        byte_bits = extracted_bits[i:i+8]\n",
    "        if len(byte_bits) == 8:\n",
    "            byte_value = int(''.join(map(str, byte_bits)), 2)\n",
    "            flag_chars.append(chr(byte_value))\n",
    "        flag = ''.join(flag_chars)\n",
    "    \n",
    "    return flag\n",
    "file_path = 'modified_dataset/train/7/train_image_15.png'\n",
    "epsilon = 0.1\n",
    "extracted_flag = extract_flag_from_image(file_path, epsilon)\n",
    "print(f\"Extracted Flag: {extracted_flag}\")"
   ]
  },
  {
   "cell_type": "code",
   "execution_count": 3,
   "metadata": {},
   "outputs": [
    {
     "name": "stdout",
     "output_type": "stream",
     "text": [
      "Extracted Flag: 1n_Th3_P1x3ls}\u0000\u0000\u0000\u0000\u0000\u0000\u0000\u0000\u0000\u0000\u0000\u0000ÿ\u0000\u001fø\u0000\u0003ç\u0000|ø\u0000\u000f\u0000\u0001áà\u0000<|\u0000\u0003ÿÀ\u0000?ø\u0000\u0001ÿ\u0000\u0000x\u0000\u0000\u0007\u0000\u00008\u0000\u0000\u0007\u0000\u0000x\u0000\u0000\u0007\u0000\u00008\u0000\u0000\u0003À\u0000\u0000<\u0000\u0000\u0001à\u0000\u0000\u0000\u0000\n"
     ]
    }
   ],
   "source": [
    "import numpy as np\n",
    "from PIL import Image\n",
    "\n",
    "def extract_flag_from_image(file_path, epsilon):\n",
    "    img = Image.open(file_path).convert('L')\n",
    "    adversarial_image = np.array(img) / 255.0\n",
    "    adversarial_image = np.clip(adversarial_image, 0, 1)\n",
    "    extracted_bits = np.round(adversarial_image / epsilon).astype(int).flatten()\n",
    "    extracted_bits = np.clip(extracted_bits, 0, 1)\n",
    "    flag_chars = []\n",
    "    for i in range(0, len(extracted_bits), 8):\n",
    "        byte_bits = extracted_bits[i:i+8]\n",
    "        if len(byte_bits) == 8:\n",
    "            byte_value = int(''.join(map(str, byte_bits)), 2)\n",
    "            flag_chars.append(chr(byte_value))\n",
    "    flag = ''.join(flag_chars)\n",
    "    \n",
    "    return flag\n",
    "file_path = 'modified_dataset/train/9/train_image_4.png'\n",
    "epsilon = 0.1\n",
    "extracted_flag = extract_flag_from_image(file_path, epsilon)\n",
    "print(f\"Extracted Flag: {extracted_flag}\")"
   ]
  },
  {
   "cell_type": "code",
   "execution_count": null,
   "metadata": {},
   "outputs": [],
   "source": []
  },
  {
   "cell_type": "code",
   "execution_count": null,
   "metadata": {},
   "outputs": [],
   "source": []
  }
 ],
 "metadata": {
  "kernelspec": {
   "display_name": "base",
   "language": "python",
   "name": "python3"
  },
  "language_info": {
   "codemirror_mode": {
    "name": "ipython",
    "version": 3
   },
   "file_extension": ".py",
   "mimetype": "text/x-python",
   "name": "python",
   "nbconvert_exporter": "python",
   "pygments_lexer": "ipython3",
   "version": "3.10.15"
  }
 },
 "nbformat": 4,
 "nbformat_minor": 2
}
